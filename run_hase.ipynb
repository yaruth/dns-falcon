{
 "cells": [
  {
   "cell_type": "code",
   "execution_count": 2,
   "id": "83d165f6",
   "metadata": {},
   "outputs": [],
   "source": [
    "import setup as s"
   ]
  },
  {
   "cell_type": "code",
   "execution_count": 5,
   "id": "93fbc0b8",
   "metadata": {},
   "outputs": [
    {
     "name": "stdout",
     "output_type": "stream",
     "text": [
      "stdout: /root/dns-falcon\n",
      "\n",
      "stderr: \n"
     ]
    }
   ],
   "source": [
    "stdout, err =  s.run((\"pwd\"))\n",
    "print(\"stdout:\", stdout)\n",
    "print(\"stderr:\", err)"
   ]
  },
  {
   "cell_type": "code",
   "execution_count": 6,
   "id": "acdd93ca",
   "metadata": {},
   "outputs": [
    {
     "name": "stdout",
     "output_type": "stream",
     "text": [
      "stdout: \n",
      "stderr: \n"
     ]
    }
   ],
   "source": [
    "stdout, err =  s.run((\"docker\", \"exec\", \"-i\", \"45c5b17aa240\", \"/bin/bash\"))\n",
    "print(\"stdout:\", stdout)\n",
    "print(\"stderr:\", err)"
   ]
  },
  {
   "cell_type": "code",
   "execution_count": 7,
   "id": "7a48546c",
   "metadata": {},
   "outputs": [
    {
     "name": "stdout",
     "output_type": "stream",
     "text": [
      "stdout: /root/dns-falcon\n",
      "\n",
      "stderr: \n"
     ]
    }
   ],
   "source": [
    "stdout, err =  s.run((\"pwd\"))\n",
    "print(\"stdout:\", stdout)\n",
    "print(\"stderr:\", err)"
   ]
  },
  {
   "cell_type": "code",
   "execution_count": 19,
   "id": "4f1441ab",
   "metadata": {},
   "outputs": [
    {
     "name": "stdout",
     "output_type": "stream",
     "text": [
      "stdout: --- echo ---\n",
      "/root/dns-falcon\n",
      "--- echo ---\n",
      "Done\n",
      "\n",
      "stderr: the input device is not a TTY\n",
      "\n"
     ]
    }
   ],
   "source": [
    "stdout, err =  s.run((\"bash\", \"make_love.sh\"))\n",
    "print(\"stdout:\", stdout)\n",
    "print(\"stderr:\", err)"
   ]
  },
  {
   "cell_type": "code",
   "execution_count": null,
   "id": "b8e6bfe5",
   "metadata": {},
   "outputs": [],
   "source": []
  },
  {
   "cell_type": "code",
   "execution_count": null,
   "id": "6e12404e",
   "metadata": {},
   "outputs": [
    {
     "ename": "",
     "evalue": "",
     "output_type": "error",
     "traceback": [
      "\u001b[1;31mFailed to start the Kernel. \n",
      "View Jupyter <a href='command:jupyter.viewOutput'>log</a> for further details."
     ]
    }
   ],
   "source": [
    "import sys\n",
    "for a in sys.path:\n",
    "  print(a)"
   ]
  }
 ],
 "metadata": {
  "kernelspec": {
   "display_name": "Python 3 (ipykernel)",
   "language": "python",
   "name": "python3"
  }
 },
 "nbformat": 4,
 "nbformat_minor": 5
}
