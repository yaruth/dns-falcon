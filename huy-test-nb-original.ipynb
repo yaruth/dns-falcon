{
 "cells": [
  {
   "cell_type": "code",
   "execution_count": 2,
   "id": "83d165f6",
   "metadata": {},
   "outputs": [],
   "source": [
    "import re\n",
    "from tqdm import tqdm\n",
    "\n",
    "import setup"
   ]
  },
  {
   "cell_type": "code",
   "execution_count": 5,
   "id": "93fbc0b8",
   "metadata": {},
   "outputs": [
    {
     "name": "stdout",
     "output_type": "stream",
     "text": [
      "stdout: /root/dns-falcon\n",
      "\n",
      "stderr: \n"
     ]
    }
   ],
   "source": [
    "rexp = r\"Testing algorithm (?P<alg_num>\\d+)\\((?P<alg_name>[a-zA-Z0-9\\-]+)\\): \\'(?P<creator>[^\\']*)\\' ->\\'(?P<signer>[^\\']*)\\' -> \\'(?P<verifier>[^\\']*)\\' \\((?P<alg_size>\\d+) bits\\) Signature \\& verify ok, create (?P<time_create_usec>\\d+)usec, signature (?P<time_sign_usec>\\d+)usec, verify (?P<time_verify_usec>\\d+)usec\"\n",
    "    \n",
    "raw_data = [\n",
    "    re.match(rexp, l).groupdict()\n",
    "    for _ in tqdm(range(100))\n",
    "    for l in setup.auth(\"test-algorithms\").split(\"\\n\") if l\n",
    "]\n"
   ]
  },
  {
   "cell_type": "code",
   "execution_count": 6,
   "id": "acdd93ca",
   "metadata": {},
   "outputs": [
    {
     "name": "stdout",
     "output_type": "stream",
     "text": [
      "stdout: \n",
      "stderr: \n"
     ]
    }
   ],
   "source": [
    "import pandas as pd"
   ]
  },
  {
   "cell_type": "code",
   "execution_count": 7,
   "id": "7a48546c",
   "metadata": {},
   "outputs": [
    {
     "name": "stdout",
     "output_type": "stream",
     "text": [
      "stdout: /root/dns-falcon\n",
      "\n",
      "stderr: \n"
     ]
    }
   ],
   "source": [
    "data = pd.DataFrame(raw_data)\n",
    "for c in ['alg_num', 'alg_size', 'time_create_usec', 'time_sign_usec', 'time_verify_usec']:\n",
    "    data[c] = data[c].apply(int)\n",
    "data"
   ]
  },
  {
   "cell_type": "code",
   "execution_count": null,
   "id": "4f1441ab",
   "metadata": {},
   "outputs": [],
   "source": [
    "mdata = data.melt(\n",
    "    id_vars=['alg_num', 'alg_name', 'alg_size', 'creator', 'signer', 'verifier'], \n",
    "    value_vars=['time_create_usec', 'time_sign_usec', 'time_verify_usec'], \n",
    "    value_name='duration_usec'\n",
    ")\n",
    "mdata"
   ]
  },
  {
   "cell_type": "code",
   "execution_count": null,
   "id": "ff86b68a",
   "metadata": {},
   "outputs": [],
   "source": [
    "mdata['action'] = mdata['variable'].apply(lambda v: v.split('_')[1])\n",
    "mdata['library'] = mdata.apply(lambda row: row[{'create': 'creator', 'sign': 'signer', 'verify': 'verifier'}[row['action']]], axis=1)\n",
    "mdata['library'] = mdata['library'].replace({'OpenSSL PQC': 'OQS/OpenSSL'})\n",
    "mdata['library'] = mdata['library'].apply(lambda lib: lib.split(' ', 1)[0])\n",
    "mdata['library'] = mdata['library'].replace({'OpenSSL': 'OQS/OpenSSL'})\n",
    "mdata['algorithm'] = mdata.apply(lambda row: f\"{row['alg_name']} {row['alg_size']}bits\\n[{row['library']}]\", axis=1)\n",
    "mdata[['library', 'algorithm', 'action', 'duration_usec']]"
   ]
  },
  {
   "cell_type": "code",
   "execution_count": null,
   "id": "bf84d8a9",
   "metadata": {},
   "outputs": [],
   "source": [
    "import seaborn as sns\n",
    "\n",
    "sns.set(font_scale=2)\n",
    "sns.set_style('whitegrid')"
   ]
  },
  {
   "cell_type": "code",
   "execution_count": null,
   "id": "83a1f32d",
   "metadata": {},
   "outputs": [],
   "source": [
    "ALGORITHM_COLORS = {\n",
    "    'RSASHA1 2048bits\\n[OQS/OpenSSL]': '#ff0000',\n",
    "    'RSASHA1-NSEC3-SHA1 2048bits\\n[OQS/OpenSSL]': '#dd0000',\n",
    "    'RSASHA256 2048bits\\n[OQS/OpenSSL]': '#bb0000',\n",
    "    'RSASHA512 2048bits\\n[OQS/OpenSSL]': '#990000',\n",
    "    'ECDSAP256SHA256 256bits\\n[OQS/OpenSSL]': '#00ff00',\n",
    "    'ECDSAP384SHA384 384bits\\n[OQS/OpenSSL]': '#00dd00',\n",
    "    'ED25519 256bits\\n[OQS/OpenSSL]': '#0000ff',\n",
    "    'ED25519 256bits\\n[Sodium]': '#0000dd',\n",
    "    'ED448 456bits\\n[OQS/OpenSSL]': '#0000bb',\n",
    "    'falcon 10248bits\\n[OQS/OpenSSL]': '#00ffff',\n",
    "}\n",
    "ALGORITHM_ORDER = list(ALGORITHM_COLORS.keys())\n",
    "ALGORITHM_PALETTE = sns.color_palette([ALGORITHM_COLORS[a] for a in ALGORITHM_ORDER])"
   ]
  },
  {
   "cell_type": "code",
   "execution_count": null,
   "id": "bf10180a",
   "metadata": {},
   "outputs": [],
   "source": [
    "g = sns.displot(\n",
    "    data=mdata,\n",
    "    x='duration_usec',\n",
    "    row='algorithm', col='action',\n",
    "    hue='algorithm', hue_order=ALGORITHM_ORDER, palette=ALGORITHM_PALETTE,\n",
    "    log_scale=(True, False),\n",
    "    height=.9,\n",
    "    aspect=6/.9,\n",
    "    facet_kws=dict(legend_out=True, margin_titles=False, despine=False, sharey=False),\n",
    "    kind='hist',\n",
    "    kde=True,    \n",
    ")\n",
    "g.set(\n",
    "    #xlim=(1*1e-3, 1e-1), \n",
    "    ylabel='', \n",
    "    yticks=[],\n",
    "    xticks=[10, 100, 1000, 10000],\n",
    "    xticklabels=[\"10µs\", \"100µs\", \"1ms\", \"10ms\"],\n",
    "    title='',\n",
    ")\n",
    "\n",
    "for ax, label in zip(g.axes[-1, :], ['Create Keypair', 'Sign', 'Verify']):\n",
    "    ax.set_xlabel(f'{label}\\nDuration')\n",
    "    \n",
    "g.figure.suptitle('Crypto Algorithm Run Time as Measured by PowerDNS', y=1.02)\n",
    "g.figure.subplots_adjust(wspace=0, hspace=0)\n",
    "g.legend.set_title('')\n",
    "g.legend.set_zorder(1)\n",
    "g.savefig('data/crypto_times_indv.pdf')"
   ]
  },
  {
   "cell_type": "code",
   "execution_count": null,
   "id": "81bbe51a",
   "metadata": {},
   "outputs": [],
   "source": []
  }
 ],
 "metadata": {
  "kernelspec": {
   "display_name": "Python 3 (ipykernel)",
   "language": "python",
   "name": "python3"
  },
  "language_info": {
   "codemirror_mode": {
    "name": "ipython",
    "version": 3
   },
   "file_extension": ".py",
   "mimetype": "text/x-python",
   "name": "python",
   "nbconvert_exporter": "python",
   "pygments_lexer": "ipython3",
   "version": "3.8.10"
  }
 },
 "nbformat": 4,
 "nbformat_minor": 5
}
